{
 "cells": [
  {
   "cell_type": "code",
   "execution_count": null,
   "metadata": {},
   "outputs": [],
   "source": [
    "#@title Copyright 2020 Google LLC. Double-click here for license information.\n",
    "# Licensed under the Apache License, Version 2.0 (the \"License\");\n",
    "# you may not use this file except in compliance with the License.\n",
    "# You may obtain a copy of the License at\n",
    "#\n",
    "# https://www.apache.org/licenses/LICENSE-2.0\n",
    "#\n",
    "# Unless required by applicable law or agreed to in writing, software\n",
    "# distributed under the License is distributed on an \"AS IS\" BASIS,\n",
    "# WITHOUT WARRANTIES OR CONDITIONS OF ANY KIND, either express or implied.\n",
    "# See the License for the specific language governing permissions and\n",
    "# limitations under the License."
   ]
  },
  {
   "cell_type": "markdown",
   "metadata": {},
   "source": [
    "# NumPy UltraQuick Tutorial\n",
    "\n",
    "NumPy adalah Python library untuk membuat dan memanipulasi vector dan matriks. Notebook ini tidak berisikan semua tutorial cara menggunakan NumPy, hanya memberikan tutorial yang cukup untuk menggunakan NumPy sebagai pemula."
   ]
  },
  {
   "cell_type": "markdown",
   "metadata": {},
   "source": [
    "## Import NumPy modul"
   ]
  },
  {
   "cell_type": "code",
   "execution_count": 2,
   "metadata": {},
   "outputs": [],
   "source": [
    "import numpy as np"
   ]
  },
  {
   "cell_type": "markdown",
   "metadata": {},
   "source": [
    "## Membuat array\n",
    "\n",
    "Gunakan kode `np.array` untuk membuat matriks NumPy dengan nilai yang sudah kamu tentukan. Sebagai contoh panggil `np.array` untuk membuat vector 8-elemen"
   ]
  },
  {
   "cell_type": "code",
   "execution_count": 3,
   "metadata": {},
   "outputs": [
    {
     "name": "stdout",
     "output_type": "stream",
     "text": [
      "[1.2 2.4 3.5 4.7 6.1 7.2 8.3 9.5]\n"
     ]
    }
   ],
   "source": [
    "one_dimensional_array = np.array([1.2, 2.4, 3.5, 4.7, 6.1, 7.2, 8.3, 9.5])\n",
    "print(one_dimensional_array)"
   ]
  },
  {
   "cell_type": "markdown",
   "metadata": {},
   "source": [
    "kamu juga bisa menggunakan `np.array` untuk membuat matriks 2 dimensi. Untuk membuat matriks 2 dimensi, tandai dimensi tambahan menggunakan `[]`. Sebagai contoh kode dibawah untuk membuat matriks 3x2"
   ]
  },
  {
   "cell_type": "code",
   "execution_count": 4,
   "metadata": {},
   "outputs": [
    {
     "name": "stdout",
     "output_type": "stream",
     "text": [
      "[[ 6  5]\n",
      " [11  7]\n",
      " [ 4  8]]\n"
     ]
    }
   ],
   "source": [
    "two_dimensional_array = np.array([[6,5], [11,7], [4,8]])\n",
    "print(two_dimensional_array)"
   ]
  },
  {
   "cell_type": "markdown",
   "metadata": {},
   "source": [
    "Untuk membuat matriks yang isinya semuanya 0, gunakan kode `np.zeros(shape, dtype)`. Untuk membuat matriks yang isinya semuanya 1 gunakan kode `np.ones(shape, dtype)`."
   ]
  },
  {
   "cell_type": "code",
   "execution_count": 5,
   "metadata": {},
   "outputs": [
    {
     "name": "stdout",
     "output_type": "stream",
     "text": [
      "[[0]\n",
      " [0]]\n",
      "\n",
      "[1. 1. 1. 1. 1.]\n"
     ]
    }
   ],
   "source": [
    "array_all_zero = np.zeros((2,1), dtype=int)\n",
    "print(array_all_zero)\n",
    "print()\n",
    "array_all_one = np.ones(5)\n",
    "print(array_all_one)"
   ]
  },
  {
   "cell_type": "markdown",
   "metadata": {},
   "source": [
    "## Membuat array dalam rentang angka\n",
    "\n",
    "Kamu bisa membuat array dengan isi angka dalam rentang yang sudah ditentukan. batas bawah diikutkan tapi batas atas tidak."
   ]
  },
  {
   "cell_type": "code",
   "execution_count": 6,
   "metadata": {},
   "outputs": [
    {
     "name": "stdout",
     "output_type": "stream",
     "text": [
      "[ 5  6  7  8  9 10 11]\n"
     ]
    }
   ],
   "source": [
    "sequence_of_integers = np.arange(5, 12)\n",
    "print(sequence_of_integers)"
   ]
  },
  {
   "cell_type": "markdown",
   "metadata": {},
   "source": [
    "## Membuat array dengan angka acak\n",
    "\n",
    "NumPy menyediakan cara untuk membuat array dengan isian angka acak dalam selang angka yang telah ditentukan. Sebagai contoh `np.random.randint` menghasilkan nilai integer secara acak diantara batas bawah dan batas atas. Kode dibawah akan membuat vector 6-elemen berisi nilai integer acak diantara 50 sampai 100."
   ]
  },
  {
   "cell_type": "code",
   "execution_count": 7,
   "metadata": {},
   "outputs": [
    {
     "name": "stdout",
     "output_type": "stream",
     "text": [
      "[91 86 93 94 92 80]\n"
     ]
    }
   ],
   "source": [
    "random_integers_between_50_and_100 = np.random.randint(low=50, high=101, size=(6))\n",
    "print(random_integers_between_50_and_100)"
   ]
  },
  {
   "cell_type": "markdown",
   "metadata": {},
   "source": [
    "Untuk membuat nilai float acak antara 0.0 sampai 1.0, gunakan kode `np.random.random`. Sebagai contoh"
   ]
  },
  {
   "cell_type": "code",
   "execution_count": 8,
   "metadata": {},
   "outputs": [
    {
     "name": "stdout",
     "output_type": "stream",
     "text": [
      "[0.60526234 0.33833974 0.94749902 0.92594346 0.56698594 0.22758854]\n"
     ]
    }
   ],
   "source": [
    "random_floats_between_0_and_1 = np.random.random([6])\n",
    "print(random_floats_between_0_and_1)"
   ]
  },
  {
   "cell_type": "markdown",
   "metadata": {},
   "source": [
    "## Operasi Matematika di NumPy operand\n",
    "\n",
    "broadcasting , teknik yang digunakan NumPy untuk secara virtual memperbesar dimensi vector yang kecil supaya sesuai dengan dimensi vector yang besar supaya bisa dilakukan operasi linear aljabar. Contoh dibawah jika kita ingin menambahkan nilai 2 ke setiap item yang ada di vector."
   ]
  },
  {
   "cell_type": "code",
   "execution_count": 9,
   "metadata": {},
   "outputs": [
    {
     "name": "stdout",
     "output_type": "stream",
     "text": [
      "[2.60526234 2.33833974 2.94749902 2.92594346 2.56698594 2.22758854]\n"
     ]
    }
   ],
   "source": [
    "random_floats_between_2_and_3 = random_floats_between_0_and_1 + 2.0\n",
    "print(random_floats_between_2_and_3)"
   ]
  },
  {
   "cell_type": "markdown",
   "metadata": {},
   "source": [
    "Kode dibawah contoh broadcasting perkalian"
   ]
  },
  {
   "cell_type": "code",
   "execution_count": 10,
   "metadata": {},
   "outputs": [
    {
     "name": "stdout",
     "output_type": "stream",
     "text": [
      "[273 258 279 282 276 240]\n"
     ]
    }
   ],
   "source": [
    "random_integers_between_150_and_300 = random_integers_between_50_and_100 * 3\n",
    "print(random_integers_between_150_and_300)"
   ]
  },
  {
   "cell_type": "markdown",
   "metadata": {},
   "source": [
    "## Task 1: Create a Linear Dataset\n",
    "\n",
    "Your goal is to create a simple dataset consisting of a single feature and a label as follows:\n",
    "\n",
    "1. Assign a sequence of integers from 6 to 20 (inclusive) to a NumPy array named `feature`.\n",
    "2. Assign 15 values to a NumPy array named `label` such that:\n",
    "\n",
    "```\n",
    "   label = (3)(feature) + 4\n",
    "```\n",
    "For example, the first value for `label` should be:\n",
    "\n",
    "```\n",
    "  label = (3)(6) + 4 = 22\n",
    " ```"
   ]
  },
  {
   "cell_type": "code",
   "execution_count": 11,
   "metadata": {},
   "outputs": [
    {
     "name": "stdout",
     "output_type": "stream",
     "text": [
      "[ 6  7  8  9 10 11 12 13 14 15 16 17 18 19 20]\n",
      "[22 25 28 31 34 37 40 43 46 49 52 55 58 61 64]\n"
     ]
    }
   ],
   "source": [
    "feature = np.arange(6,21)\n",
    "print(feature)\n",
    "label = 3 * feature + 4\n",
    "print(label)"
   ]
  },
  {
   "cell_type": "markdown",
   "metadata": {},
   "source": [
    "contoh Jawaban dari Google\n",
    "\n",
    "\n",
    "    #@title Double-click to see a possible solution to Task 1.\n",
    "    feature = np.arange(6, 21)\n",
    "    print(feature)\n",
    "    label = (feature * 3) + 4\n",
    "    print(label)\n"
   ]
  },
  {
   "cell_type": "markdown",
   "metadata": {},
   "source": [
    "## Task 2: Add Some Noise to the Dataset\n",
    "\n",
    "To make your dataset a little more realistic, insert a little random noise into each element of the `label` array you already created. To be more precise, modify each value assigned to `label` by adding a *different* random floating-point value between -2 and +2. \n",
    "\n",
    "Don't rely on broadcasting. Instead, create a `noise` array having the same dimension as `label`."
   ]
  },
  {
   "cell_type": "code",
   "execution_count": 12,
   "metadata": {},
   "outputs": [
    {
     "name": "stdout",
     "output_type": "stream",
     "text": [
      "[ 0.         -0.02896337  0.          0.          0.         -0.74436208\n",
      "  0.          0.46215911 -0.11184579  0.          0.         -0.36193176\n",
      " -1.18771311  0.03103528  0.        ]\n",
      "[22.         24.97103663 28.         31.         34.         36.25563792\n",
      " 40.         43.46215911 45.88815421 49.         52.         54.63806824\n",
      " 56.81228689 61.03103528 64.        ]\n"
     ]
    }
   ],
   "source": [
    "noise = np.random.randint(low=-2, high=2, size=(15)) * np.random.random(15)\n",
    "print(noise)\n",
    "label = label + noise\n",
    "print(label)"
   ]
  },
  {
   "cell_type": "markdown",
   "metadata": {},
   "source": [
    "Contoh jawaban dari Google\n",
    "\n",
    "    #@title Double-click to see a possible solution to Task 2.\n",
    "\n",
    "    noise = (np.random.random([15]) * 4) - 2\n",
    "    print(noise)\n",
    "    label = label + noise \n",
    "    print(label)"
   ]
  },
  {
   "cell_type": "code",
   "execution_count": null,
   "metadata": {},
   "outputs": [],
   "source": []
  },
  {
   "cell_type": "code",
   "execution_count": null,
   "metadata": {},
   "outputs": [],
   "source": []
  }
 ],
 "metadata": {
  "kernelspec": {
   "display_name": "Python 3",
   "language": "python",
   "name": "python3"
  },
  "language_info": {
   "codemirror_mode": {
    "name": "ipython",
    "version": 3
   },
   "file_extension": ".py",
   "mimetype": "text/x-python",
   "name": "python",
   "nbconvert_exporter": "python",
   "pygments_lexer": "ipython3",
   "version": "3.8.5"
  }
 },
 "nbformat": 4,
 "nbformat_minor": 4
}
